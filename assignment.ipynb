{
 "cells": [
  {
   "cell_type": "code",
   "execution_count": 1,
   "metadata": {},
   "outputs": [],
   "source": [
    "# Ques.1 Explain the key features of python that make it a popular choice for programming."
   ]
  },
  {
   "cell_type": "code",
   "execution_count": null,
   "metadata": {},
   "outputs": [],
   "source": [
    "''' Answer.1 There are some interesting features of python that makes it popular choice for the programmers and industrialists as well and these are:\n",
    "1. Ease of learning: Python is a very high level programming language and it takes less time to learn coding in python when comparision to other programming languages. So, learners enjoy ease of learning.\n",
    "2. Readable: In comparison with other languages, Python doesn't need the use of brackets and semicolon to write the program inside it. This is the reason that makes it more readable.\n",
    "3. Open source and free: There is no charge to use the python and also its code are availabe publically.\n",
    "4. Abundance of library: There are abundance of built in functions inside Python. These built in functions are called library.\n",
    "5. Huge community: As the Python is very compatible. So, it has huge number of developers all around the globe.\n",
    "6. Object oriented and procedural oriented language: Python focuses on design around data and objects. And also it focuses on functions as well.\n",
    "7. Supports GUI: One can easily interact with the software using a GUI. wxPython and jPython are the softwares of python that allows the use of GUI easily and faster.\n",
    "8. Dynamically typed: It doesn't require to declare its variable with data types. Python at run time can understand by its own.\n",
    "'''"
   ]
  },
  {
   "cell_type": "code",
   "execution_count": 3,
   "metadata": {},
   "outputs": [],
   "source": [
    "#Question2. Describe the role of predefined keywords in python and provide examples of how they are used in a program?"
   ]
  },
  {
   "cell_type": "code",
   "execution_count": 7,
   "metadata": {},
   "outputs": [
    {
     "name": "stdout",
     "output_type": "stream",
     "text": [
      "* * * * * \n",
      "* * * * * \n",
      "* * * * * \n",
      "* * * * * \n",
      "* * * * * \n"
     ]
    }
   ],
   "source": [
    "'''Answer2. Keywords are the reserved words of python that have special meanings. The role of keywords in python is to make program effective in less time and also it helps users to write their code. Better Understanding of keywords makes a programmer a pro programmer. \n",
    "We have many keywords in python but some are:\n",
    "if, elif, and, or, print, while, for, etc\n",
    "here is the example that shows the use of keyword inside a program.\n",
    "Write a program using for loop to create a square of (*)\n",
    "'''\n",
    "for i in (range(5)):\n",
    "    for j in (range(5)):\n",
    "        print(\"*\", end=\" \")\n",
    "    print()"
   ]
  },
  {
   "cell_type": "code",
   "execution_count": 8,
   "metadata": {},
   "outputs": [],
   "source": [
    "#Question3. Compare and contrast mutuable and immutable objects in python with examples."
   ]
  },
  {
   "cell_type": "code",
   "execution_count": 13,
   "metadata": {},
   "outputs": [
    {
     "ename": "TypeError",
     "evalue": "'tuple' object does not support item assignment",
     "output_type": "error",
     "traceback": [
      "\u001b[1;31m---------------------------------------------------------------------------\u001b[0m",
      "\u001b[1;31mTypeError\u001b[0m                                 Traceback (most recent call last)",
      "Cell \u001b[1;32mIn[13], line 12\u001b[0m\n\u001b[0;32m      7\u001b[0m \u001b[38;5;124;03m'''In above program, we see that we changed list item because of its mutability.\u001b[39;00m\n\u001b[0;32m      8\u001b[0m \u001b[38;5;124;03mNow, Immutable objects are those objects whose values and types can't be changed. It remains fixed and if one tries to change the entities of immutable objects, gets an error. We have tuple, int, float, bool, string.\u001b[39;00m\n\u001b[0;32m      9\u001b[0m \u001b[38;5;124;03mHere's the program supporting immutability\u001b[39;00m\n\u001b[0;32m     10\u001b[0m \u001b[38;5;124;03m'''\u001b[39;00m\n\u001b[0;32m     11\u001b[0m tup \u001b[38;5;241m=\u001b[39m (\u001b[38;5;241m1\u001b[39m, \u001b[38;5;241m3\u001b[39m, \u001b[38;5;124m\"\u001b[39m\u001b[38;5;124mJagan\u001b[39m\u001b[38;5;124m\"\u001b[39m, \u001b[38;5;28;01mTrue\u001b[39;00m, \u001b[38;5;124m\"\u001b[39m\u001b[38;5;124mMadan\u001b[39m\u001b[38;5;124m\"\u001b[39m)\n\u001b[1;32m---> 12\u001b[0m \u001b[43mtup\u001b[49m\u001b[43m[\u001b[49m\u001b[38;5;241;43m2\u001b[39;49m\u001b[43m]\u001b[49m \u001b[38;5;241m=\u001b[39m \u001b[38;5;124m\"\u001b[39m\u001b[38;5;124mKadija\u001b[39m\u001b[38;5;124m\"\u001b[39m\n\u001b[0;32m     13\u001b[0m \u001b[38;5;66;03m#we can't change as it is immutable object.\u001b[39;00m\n",
      "\u001b[1;31mTypeError\u001b[0m: 'tuple' object does not support item assignment"
     ]
    }
   ],
   "source": [
    "'''Answer3. Mutuable objects in python are those objects which can be modified, change, add, remove the types and values inside it. Mutuable objects are list, sets, dictionery.\n",
    "Here's the program supporting mutability\n",
    "'''\n",
    "list1 = [1,2,3,'Mohan', 'John', True, 5+6j]\n",
    "list1[2] = \"Badal\"\n",
    "list1\n",
    "'''In above program, we see that we changed list item because of its mutability.\n",
    "Now, Immutable objects are those objects whose values and types can't be changed. It remains fixed and if one tries to change the entities of immutable objects, gets an error. We have tuple, int, float, bool, string.\n",
    "Here's the program supporting immutability\n",
    "'''\n",
    "tup = (1, 3, \"Jagan\", True, \"Madan\")\n",
    "tup[2] = \"Kadija\"\n",
    "#we can't change as it is immutable object."
   ]
  },
  {
   "cell_type": "code",
   "execution_count": 14,
   "metadata": {},
   "outputs": [],
   "source": [
    "#Question4. Discuss the different types of operators in python and provide example of how they are used?"
   ]
  },
  {
   "cell_type": "code",
   "execution_count": null,
   "metadata": {},
   "outputs": [],
   "source": [
    "'''Operators in python are used to perform the operations on operands. In python, the operators are:\n",
    "Arithmetic operator: Mathematical calculations like addition, subtraction, multiplication, division, etc comes under arithmetic operator. Example: a = 34 % 5 gives us 4; b = 54 / 4  gives us 13.\n",
    "\n",
    "Assignment operator: Equals to (=) operator is used to assign the value. Example: a = 5; b = 3.\n",
    "\n",
    "Comparison operator: ==,<=,>=,<,> are comparison operator used to compare the values like whether the values are equal or not equal or less than or greater than. Example: 3 == 3 return true; 4 < 1 returns false.\n",
    "\n",
    "Logical operator: To establish the logical relationship between the operands. We use AND, OR, not operators. Example: if(age > 21 && non-alcoholic): \n",
    "                                print(\"No challan\") # here we see both need to be true\n",
    "Identity operator: compares that same memory block or different.\n",
    "Membership operator: Sometimes we need to know that a particular value is present or not, that time we use membership operator. Example: a = \"pwskills\" \n",
    "                                  i in a #returns true value as i is there\n",
    "\n",
    "Bit-wise operator: These operations perform on bit level as computer stores data in 0,1 format. So, we have bitwise operator for the calculation at bit level. Here are XOR, ^, ~, &, |.\n",
    "for example: 18 & 3 returns 2; here the operations performed on bit level.\n",
    "'''"
   ]
  },
  {
   "cell_type": "code",
   "execution_count": 16,
   "metadata": {},
   "outputs": [],
   "source": [
    "#Question5. Explain the concept of type casting in python with examples."
   ]
  },
  {
   "cell_type": "code",
   "execution_count": null,
   "metadata": {},
   "outputs": [],
   "source": [
    "'''Answer5. Type casting in python is the method to convert a variable datatype into another datatype.\n",
    "There are two types of type casting in python: \n",
    "1. Implicit type casting : In this method, Python converts datatypes of variable automatically based on bigger datatype. int + float = float. For Example: a = 5.4, b = 3, c = a+b; returns float value of c.\n",
    "\n",
    "2. Explicit type casting : Here, user involvement is needed to change the datatype of a variable. For example: a = 5, n = float(a) here datatype of a changed into float'''"
   ]
  },
  {
   "cell_type": "code",
   "execution_count": 19,
   "metadata": {},
   "outputs": [],
   "source": [
    "#Question6. How do conditional statements work in python? Illustrate with example."
   ]
  },
  {
   "cell_type": "code",
   "execution_count": null,
   "metadata": {},
   "outputs": [],
   "source": [
    "'''Answer6. Conditional statements gives the flow control in python. It controls the flow like till what time a loop stops running.\n",
    "We have if, if...else, nested if...else, if...elif...else and ternary expression conditional statement.\n",
    "\n",
    "Below are the examples\n",
    "'''"
   ]
  },
  {
   "cell_type": "code",
   "execution_count": 22,
   "metadata": {},
   "outputs": [
    {
     "name": "stdout",
     "output_type": "stream",
     "text": [
      "x is equal to 20\n"
     ]
    }
   ],
   "source": [
    "#if elif else\n",
    "x = 20\n",
    "if(x>20):\n",
    "    print(\"x is greater than 20\")\n",
    "elif(x==20):\n",
    "    print(\"x is equal to 20\")\n",
    "else:\n",
    "    print(\"x is less than 20\")"
   ]
  },
  {
   "cell_type": "code",
   "execution_count": 34,
   "metadata": {},
   "outputs": [
    {
     "name": "stdout",
     "output_type": "stream",
     "text": [
      "Both x1 and y is greater than 5\n"
     ]
    }
   ],
   "source": [
    "#nested if else >> you can have multiple if else inside if else\n",
    "x1 = 7\n",
    "y = 6\n",
    "if x1 > 5:\n",
    "    if y>5:\n",
    "        print(\"Both x1 and y is greater than 5\")\n",
    "    else:\n",
    "        print(\"x1 is greater than 5 but y is less than 5\")\n",
    "else:\n",
    "    print(\"x1 is not greater than 5\")    "
   ]
  },
  {
   "cell_type": "code",
   "execution_count": 36,
   "metadata": {},
   "outputs": [
    {
     "name": "stdout",
     "output_type": "stream",
     "text": [
      "b is greater than a\n"
     ]
    }
   ],
   "source": [
    "#ternary expression conditional statement\n",
    "a = 10\n",
    "b = 20\n",
    "print(\"Both a and b are equal\" if a == b else \"a is greater than b\"\n",
    "        if a > b else \"b is greater than a\")"
   ]
  },
  {
   "cell_type": "code",
   "execution_count": null,
   "metadata": {},
   "outputs": [],
   "source": [
    "#Question7. Describe the different types of loops in python and their use cases with examples."
   ]
  },
  {
   "cell_type": "code",
   "execution_count": 28,
   "metadata": {},
   "outputs": [
    {
     "name": "stdout",
     "output_type": "stream",
     "text": [
      "* \n",
      "* * \n",
      "* * * \n",
      "* * * * \n",
      "* * * * * \n"
     ]
    }
   ],
   "source": [
    "'''Answer7. We have two loops in python ie..., for loop and while loop. Below are the examples shows both loops\n",
    "'''\n",
    "for i in (range(5)):\n",
    "    for j in (range(i+1)):\n",
    "        print(\"*\", end=\" \")\n",
    "    print()"
   ]
  },
  {
   "cell_type": "code",
   "execution_count": 30,
   "metadata": {},
   "outputs": [
    {
     "name": "stdout",
     "output_type": "stream",
     "text": [
      "* \n",
      "* * \n",
      "* * * \n",
      "* * * * \n",
      "* * * * * \n"
     ]
    }
   ],
   "source": [
    "row = 1\n",
    "while(row<=5):\n",
    "    col=1 \n",
    "    while(col<=row):\n",
    "        print(\"*\", end =\" \")\n",
    "        col+=1\n",
    "    print()\n",
    "    row+=1"
   ]
  }
 ],
 "metadata": {
  "kernelspec": {
   "display_name": "Python 3",
   "language": "python",
   "name": "python3"
  },
  "language_info": {
   "codemirror_mode": {
    "name": "ipython",
    "version": 3
   },
   "file_extension": ".py",
   "mimetype": "text/x-python",
   "name": "python",
   "nbconvert_exporter": "python",
   "pygments_lexer": "ipython3",
   "version": "3.12.5"
  }
 },
 "nbformat": 4,
 "nbformat_minor": 2
}
